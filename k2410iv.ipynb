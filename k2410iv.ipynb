{
 "cells": [
  {
   "cell_type": "code",
   "execution_count": 1,
   "metadata": {},
   "outputs": [
    {
     "data": {
      "text/html": [
       "<style>.container { width:100% !important; }</style>"
      ],
      "text/plain": [
       "<IPython.core.display.HTML object>"
      ]
     },
     "metadata": {},
     "output_type": "display_data"
    }
   ],
   "source": [
    "import visa\n",
    "import numpy as np\n",
    "import matplotlib.pyplot as plt\n",
    "\n",
    "%matplotlib inline\n",
    "\n",
    "from IPython.core.display import display, HTML\n",
    "display(HTML(\"<style>.container { width:100% !important; }</style>\"))"
   ]
  },
  {
   "cell_type": "code",
   "execution_count": 2,
   "metadata": {},
   "outputs": [
    {
     "data": {
      "text/plain": [
       "('ASRL3::INSTR', 'GPIB0::22::INSTR')"
      ]
     },
     "execution_count": 2,
     "metadata": {},
     "output_type": "execute_result"
    }
   ],
   "source": [
    "# Connect to instrument\n",
    "rm = visa.ResourceManager()\n",
    "rm.list_resources()"
   ]
  },
  {
   "cell_type": "code",
   "execution_count": 3,
   "metadata": {},
   "outputs": [],
   "source": [
    "inst = rm.open_resource('GPIB0::22::INSTR')"
   ]
  },
  {
   "cell_type": "code",
   "execution_count": 4,
   "metadata": {
    "collapsed": true
   },
   "outputs": [],
   "source": [
    "class k2410iv():\n",
    "    \"\"\"\n",
    "    \n",
    "    \"\"\"\n",
    "    def __init__(self, vstart=None,vstop=None,pts=None,delay=None):\n",
    "        rm = visa.ResourceManager()\n",
    "        rm.list_resources()\n",
    "        inst = rm.open_resource('GPIB0::22::INSTR')\n",
    "\n",
    "        np.set_printoptions(threshold=np.nan)\n",
    "        \n",
    "        # Define some Parameters\n",
    "        step = (vstop-vstart)/(pts-1)\n",
    "\n",
    "        # Initialize Instrument\n",
    "        rm = visa.ResourceManager()\n",
    "        rm.list_resources()\n",
    "        inst = rm.open_resource('GPIB0::22::INSTR')\n",
    "        # Write Measurement Parameters\n",
    "        inst.write('*rst; status:preset; *cls')\n",
    "        inst.write(':status:measurement:enable 512; *sre 1')\n",
    "        inst.write(':sense:current:nplcycles 0.01')\n",
    "        inst.write(':route:terminals front')\n",
    "        inst.write(':sense:average off')\n",
    "        inst.write(':sense:function:conc off')\n",
    "        inst.write(':source:function voltage')\n",
    "        inst.write(\":sense:function 'current:dc'\")\n",
    "        inst.write(':sense:current:protection .02')\n",
    "        inst.write(':sense:current:RANG 10E-6')\n",
    "        inst.write(':source:voltage:mode sweep')\n",
    "        inst.write(':SOURce:VOLTage:PROTection 750')\n",
    "        inst.write(':source:voltage:start '+str(vstart))\n",
    "        inst.write(':source:voltage:stop '+str(vstop))\n",
    "        inst.write(':source:voltage:step '+str(step))\n",
    "        inst.write(':source:sweep:spac lin')\n",
    "        inst.write(':source:delay '+str(delay))\n",
    "        inst.write(':arm:source bus')\n",
    "        \n",
    "        \n",
    "        \n",
    "    def test(self):        \n",
    "        # Begin Measurement\n",
    "        inst.write(':trace:poin '+str(pts))\n",
    "        inst.write(':trigger:count '+str(pts))\n",
    "        inst.write(':trace:feed sense1')\n",
    "        inst.write(':trace:feed:control next')\n",
    "        inst.write(':trace:tstamp:format absolute')\n",
    "        inst.timeout=None\n",
    "        inst.write(':output on')\n",
    "        inst.write(':initiate')\n",
    "        inst.assert_trigger()\n",
    "        inst.wait_for_srq(timeout=None)\n",
    "        inst.write(':output off')\n",
    "    \n",
    "    def get_data(self):\n",
    "        # Read Buffer Data\n",
    "        inst.timeout=None\n",
    "        values = np.array(inst.query_ascii_values(':trace:data?'))\n",
    "        map(float, values)\n",
    "        # Reset Instrument For Future Measurements\n",
    "        inst.write(':*cls')\n",
    "        inst.write(':*sre 0')\n",
    "        inst.query(':status:measurement?')\n",
    "        inst.write(':trace:clear')\n",
    "        inst.write(':output off')\n",
    "        data=values.reshape((pts,5))\n",
    "        I = data[:,1]\n",
    "        v = data[:,0]\n",
    "        t = data[:,3]\n",
    "        output=np.array([t,v,I])\n",
    "        return output\n",
    "        \n",
    "        "
   ]
  },
  {
   "cell_type": "code",
   "execution_count": 5,
   "metadata": {},
   "outputs": [
    {
     "name": "stdout",
     "output_type": "stream",
     "text": [
      "voltage step = 0.2000800320128051\n",
      "time duration ~ 250.0 seconds (4.166666666666667 minutes)\n"
     ]
    }
   ],
   "source": [
    "# instantiate the keithly IV measure class\n",
    "inst.write(':*cls')\n",
    "inst.write(':*sre 0')\n",
    "inst.write(':output off')\n",
    "\n",
    "testnum=14\n",
    "vstart=0\n",
    "vstop=500\n",
    "pts=2500\n",
    "delay=.1\n",
    "step = (vstop-vstart)/(pts-1)\n",
    "print('voltage step = '+str(step))\n",
    "print('time duration ~ '+str(pts*delay)+' seconds ('+str(pts*delay/60)+' minutes)')\n",
    "t1=k2410iv(vstart,vstop,pts,delay)"
   ]
  },
  {
   "cell_type": "code",
   "execution_count": 6,
   "metadata": {
    "collapsed": true
   },
   "outputs": [],
   "source": [
    "# do the measurement\n",
    "t1.test()"
   ]
  },
  {
   "cell_type": "code",
   "execution_count": 7,
   "metadata": {
    "scrolled": true
   },
   "outputs": [
    {
     "name": "stdout",
     "output_type": "stream",
     "text": [
      "data shape (3, 2500)\n"
     ]
    },
    {
     "data": {
      "image/png": "[encoded data removed]",
      "text/plain": [
       "<Figure size 1080x360 with 2 Axes>"
      ]
     },
     "metadata": {},
     "output_type": "display_data"
    }
   ],
   "source": [
    "# check the data and plot it\n",
    "data=t1.get_data()\n",
    "print('data shape '+str(data.shape))\n",
    "f, (ax1, ax2) = plt.subplots(1, 2,figsize=(15,5))\n",
    "ax1.plot(data[1,:],data[2,:])\n",
    "ax1.set_xlabel('voltage (v)')\n",
    "ax1.set_ylabel('current (A)')\n",
    "\n",
    "ax1.set_title('TDDB Leakage Current vs Voltage')\n",
    "ax2.plot(data[0,:],data[2,:])\n",
    "ax2.set_xlabel('time (s)')\n",
    "ax2.set_ylabel('current (A)')\n",
    "ax2.set_title('TDDB Leakage Current vs Time')\n",
    "\n",
    "plt.tight_layout()\n",
    "plt.savefig('testnumber'+str(testnum)+'_'+str(vstart)+'_'+str(vstop)+'v'+str(pts)+'pts'+str(delay)+'d_combined_2410.png',dpi=500)"
   ]
  },
  {
   "cell_type": "code",
   "execution_count": 8,
   "metadata": {},
   "outputs": [
    {
     "name": "stdout",
     "output_type": "stream",
     "text": [
      "saving the file worked! here is the data shape from the file: (3, 2500)\n"
     ]
    }
   ],
   "source": [
    "# Save the data to a .txt file and check file\n",
    "np.savetxt('testnumber'+str(testnum)+'_'+str(vstart)+'_'+str(vstop)+'v'+str(pts)+'pts'+str(delay)+'d_2410.txt', data)\n",
    "check = np.loadtxt('testnumber'+str(testnum)+'_'+str(vstart)+'_'+str(vstop)+'v'+str(pts)+'pts'+str(delay)+'d_2410.txt')\n",
    "print('saving the file worked! here is the data shape from the file: '+str(check.shape))"
   ]
  },
  {
   "cell_type": "code",
   "execution_count": null,
   "metadata": {
    "collapsed": true
   },
   "outputs": [],
   "source": []
  }
 ],
 "metadata": {
  "kernelspec": {
   "display_name": "Python 3",
   "language": "python",
   "name": "python3"
  },
  "language_info": {
   "codemirror_mode": {
    "name": "ipython",
    "version": 3
   },
   "file_extension": ".py",
   "mimetype": "text/x-python",
   "name": "python",
   "nbconvert_exporter": "python",
   "pygments_lexer": "ipython3",
   "version": "3.6.3"
  }
 },
 "nbformat": 4,
 "nbformat_minor": 2
}
